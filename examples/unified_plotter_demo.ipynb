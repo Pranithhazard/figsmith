{
 "cells": [
  {
   "cell_type": "markdown",
   "metadata": {},
   "source": [
    "> How to run\n",
    "\n",
    "- pip install -e .\n",
    "- jupyter notebook (open this file)\n",
    "- Run cells in order. In the widgets, either paste a path from example_data/ or pass arrays/DataFrames as shown.\n"
   ]
  },
  {
   "cell_type": "markdown",
   "metadata": {},
   "source": [
    "# Figsmith Demo\n",
    "\n",
    "This notebook demonstrates the unified interactive plotter (`ff.load_and_plot`) built for fast, high‑quality plotting inside Jupyter.\n",
    "\n",
    "### Features at a glance\n",
    "- Load data from `.dat` files, NumPy arrays, or Pandas DataFrames (in‑memory mode disables file input)\n",
    "- Plot types: line, scatter, contour, tricontour, cylindrical contour, vector fields (with optional color/overlay)\n",
    "- Column selection UI with multi‑Y support; vector/field selectors for specialized plots\n",
    "- Per‑line style controls (color, linestyle, marker); auto legend\n",
    "- Global figure controls (labels, fonts, ticks, grid, size, aspect)\n",
    "- Subplots: create multi‑panel figures with independent datasets and plot types\n",
    "- Colorbars and legends with sizing controls; mathtext‑friendly labeling\n",
    "- Export to SVG, PNG, PDF, JPG\n",
    "- No inline plot accumulation — figures render inside the widget output\n",
    "\n",
    "## Version 0.1.0 — Unified In‑Notebook Plotting\n"
   ]
  },
  {
   "cell_type": "code",
   "execution_count": 1,
   "metadata": {},
   "outputs": [
    {
     "name": "stdout",
     "output_type": "stream",
     "text": [
      "/Users/pranithaditya/Desktop/side_projects/figsmith/figsmith_env/bin/python\n"
     ]
    }
   ],
   "source": [
    "import sys\n",
    "print(sys.executable)"
   ]
  },
  {
   "cell_type": "code",
   "execution_count": 1,
   "metadata": {},
   "outputs": [
    {
     "name": "stdout",
     "output_type": "stream",
     "text": [
      "Figsmith version: 0.1.0\n"
     ]
    }
   ],
   "source": [
    "import figsmith as ff\n",
    "import numpy as np\n",
    "import pandas as pd\n",
    "\n",
    "print(f\"Figsmith version: {ff.__version__}\")"
   ]
  },
  {
   "cell_type": "markdown",
   "metadata": {},
   "source": [
    "### Workflow\n",
    "\n",
    "1. Start\n",
    "   - Paste a file path and click “Load Data”, or\n",
    "   - Pass `data=` (DataFrame/array/dict) or `x, y` arrays to `ff.load_and_plot` (in‑memory mode).\n",
    "2. Choose Plot Type\n",
    "   - Line, Scatter, Contour/Tricontour, Cylindrical, or Vector Field.\n",
    "3. Select Columns\n",
    "   - For line/scatter: set X and one or more Y series.\n",
    "   - For contour: choose X, Y, and Field. For vector: choose X, Y, U, V (optional color/overlay).\n",
    "4. Optional: Customize Initial Line Styles (line plots)\n",
    "   - Pick per‑line color, style, marker.\n",
    "5. Create Plot\n",
    "   - Click “Create Plot”.\n",
    "6. Fine‑Tune Parameters\n",
    "   - Per‑Line tab: individual line appearance.\n",
    "   - Global tab: labels, fonts, ticks, grid, size, spacing, aspect, colormap/levels.\n",
    "   - Subplots: toggle “Enable Subplots” to build multi‑panel layouts.\n",
    "7. Save Figure\n",
    "   - Enter filename and format; click “Save Figure”.\n"
   ]
  },
  {
   "cell_type": "code",
   "execution_count": 2,
   "metadata": {},
   "outputs": [
    {
     "data": {
      "application/vnd.jupyter.widget-view+json": {
       "model_id": "c609eca0247d4afb921bea0791074a67",
       "version_major": 2,
       "version_minor": 0
      },
      "text/plain": [
       "VBox(children=(VBox(children=(HTML(value='\\n            <div style=\"padding: 0; margin-bottom: 16px;\">\\n      …"
      ]
     },
     "metadata": {},
     "output_type": "display_data"
    }
   ],
   "source": [
    "### You can simply load with empty call and then load data in the GUI\n",
    "plotter_empty = ff.load_and_plot()"
   ]
  },
  {
   "cell_type": "code",
   "execution_count": null,
   "metadata": {},
   "outputs": [],
   "source": [
    "####### Simple example of line plot using ff\n",
    "\n",
    "x = np.linspace(0, 2*np.pi, 300)\n",
    "y1 = np.sin(x)\n",
    "y2 = np.cos(x)\n",
    "y3 = np.log(x)\n",
    "y4 = np.exp(x)\n",
    "\n",
    "# With numpy arrays \n",
    "plotter = ff.load_and_plot(x=x, y=[y1, y2, y3, y4])\n",
    "\n",
    "# loading a Pandas DataFrame (best way)\n",
    "df = pd.DataFrame({\n",
    "    'x': x,\n",
    "    'sin': y1,\n",
    "    'cos': y2,\n",
    "    'log': y3,\n",
    "    'exp': y4\n",
    "})\n",
    "plotter = ff.load_and_plot(data=df)"
   ]
  },
  {
   "cell_type": "code",
   "execution_count": null,
   "metadata": {},
   "outputs": [],
   "source": [
    "####### Another example of line plot\n",
    "\n",
    "path = '../example_data/trig_functions.dat'\n",
    "\n",
    "# Using ff directly with empty call and then loading data in the GUI. Manually enter the file path and click \"Load Data\"\n",
    "plotter_trig_empty = ff.load_and_plot()\n",
    "\n",
    "# Using ff with the file path\n",
    "plotter_trig_path = ff.load_and_plot(path)\n",
    "\n",
    "# Using ff when data is already loaded in numpy arrays or Pandas DataFrame\n",
    "data = np.loadtxt(path, skiprows=1)\n",
    "x = data[:, 0]; sinx = data[:, 1]; cosx = data[:, 2]; sin2x = data[:, 3]; cos2x = data[:, 4]\n",
    "\n",
    "# With numpy arrays \n",
    "plotter_trig_np = ff.load_and_plot(x=x, y=[sinx, cosx, sin2x, cos2x])\n",
    "\n",
    "# loading a Pandas DataFrame (best way)\n",
    "df_trig = pd.DataFrame({'x': x, 'sin(x)': sinx, 'cos(x)': cosx, 'sin(2x)': sin2x, 'cos(2x)': cos2x})\n",
    "plotter_trig_df = ff.load_and_plot(data=df_trig)"
   ]
  },
  {
   "cell_type": "code",
   "execution_count": null,
   "metadata": {},
   "outputs": [],
   "source": [
    "## Example of a scatter plot using ff\n",
    "## Example: Dispersion curves of Kelvin waves of a Lamb-Oseen vortex\n",
    "## Columns: mode number, wavenumber k, frequency, damping rate, filter1, filter2, filter3\n",
    "## Plot frequency vs axial wavenumber colored by damping rate. (Ignore mode number and filters for plotting for this example)\n",
    "\n",
    "import numpy as np\n",
    "import pandas as pd\n",
    "import figsmith as ff\n",
    "\n",
    "path = '../example_data/dispersion_curves_kelvin_waves.dat'\n",
    "\n",
    "# Using ff directly with empty call and then loading data in the GUI. Manually enter the file path and click \"Load Data\"\n",
    "plotter_empty = ff.load_and_plot()\n",
    "\n",
    "# Using ff with the file path\n",
    "plotter_path = ff.load_and_plot(path)\n",
    "\n",
    "# Using ff when data is already loaded in numpy arrays or Pandas DataFrame\n",
    "data = np.loadtxt(path, skiprows=1)\n",
    "k = data[:, 1]; freq = data[:, 2]; damp = data[:, 3]\n",
    "\n",
    "# Create DataFrame\n",
    "df_kelvin = pd.DataFrame({'k': k, 'freq': freq, 'damp': damp})\n",
    "plotter_kelvin_df = ff.load_and_plot(data=df_kelvin)\n"
   ]
  },
  {
   "cell_type": "code",
   "execution_count": null,
   "metadata": {},
   "outputs": [],
   "source": [
    "## Example of plotting a scalar/vector field using ff\n",
    "## Example: velocity and vorticity field of a Taylor-Green vortex, and an additional Gaussian temperature field.\n",
    "\n",
    "import numpy as np\n",
    "import pandas as pd\n",
    "import figsmith as ff\n",
    "\n",
    "path = '../example_data/fluidfield.dat'\n",
    "\n",
    "# Using ff directly with empty call and then loading data in the GUI. Manually enter the file path and click \"Load Data\"\n",
    "plotter_empty = ff.load_and_plot()\n",
    "\n",
    "# Using ff with the file path\n",
    "plotter_path = ff.load_and_plot(path)\n",
    "\n",
    "# Using ff when data is already loaded in numpy arrays or Pandas DataFrame\n",
    "data = np.loadtxt(path, skiprows=1)\n",
    "x = data[:, 0]; y = data[:, 1]; u = data[:, 2]; v = data[:, 3]\n",
    "velocity_magnitude = data[:, 4]; vorticity = data[:, 5]; temperature = data[:, 6]\n",
    "\n",
    "## Vector field plot from DataFrame (the best way). Convert the numpy arrays to a Pandas DataFrame and then load it in ff.\n",
    "df_fluid = pd.DataFrame({'x': x, 'y': y, 'u': u, 'v': v, 'velocity_magnitude': velocity_magnitude, 'vorticity': vorticity, 'temperature': temperature})\n",
    "plotter_fluid_vec_df = ff.load_and_plot(data=df_fluid)\n",
    "\n",
    "######### The below with numpy arrays can also be done, but DataFrame is preferred and is the most convenient way!\n",
    "# Vector field plotfrom arrays (without optional color and overlay)\n",
    "# plotter_fluid_vec_np = ff.load_and_plot(vector={'x': x, 'y': y, 'u': u, 'v': v})\n",
    "\n",
    "# Vector field plot from arrays (with optional color and overlay)\n",
    "# plotter_fluid_vec_np = ff.load_and_plot(vector={'x': x, 'y': y, 'u': u, 'v': v, 'color': velocity_magnitude, 'overl': vorticity})\n"
   ]
  },
  {
   "cell_type": "code",
   "execution_count": null,
   "metadata": {},
   "outputs": [],
   "source": [
    "## Example of plotting a scalar field in 2D cylindrical coordinates using ff\n",
    "## Example: Vorticity field of a Lamb-Oseen vortex in cylindrical coordinates\n",
    "\n",
    "import numpy as np\n",
    "import pandas as pd\n",
    "import figsmith as ff\n",
    "\n",
    "path = '../example_data/lamb_oseen_vortex.dat'\n",
    "\n",
    "# Using ff directly with empty call and then loading data in the GUI. Manually enter the file path and click \"Load Data\"\n",
    "plotter_empty = ff.load_and_plot()\n",
    "\n",
    "# Using ff with the file path\n",
    "plotter_path = ff.load_and_plot(path)\n",
    "\n",
    "# Using ff when data is already loaded in numpy arrays or Pandas DataFrame\n",
    "data = np.loadtxt(path, skiprows=1)\n",
    "r = data[:, 0]; theta = data[:, 1]; vort = data[:, 2]\n",
    "\n",
    "# Create DataFrame\n",
    "df_vortex = pd.DataFrame({'r': r, 'theta': theta, 'vorticity': vort})\n",
    "\n",
    "# Use cylindrical plot type in the UI after the widget loads\n",
    "plotter_vortex_df = ff.load_and_plot(data=df_vortex)"
   ]
  },
  {
   "cell_type": "code",
   "execution_count": null,
   "metadata": {},
   "outputs": [],
   "source": []
  }
 ],
 "metadata": {
  "kernelspec": {
   "display_name": "figsmith_env",
   "language": "python",
   "name": "python3"
  },
  "language_info": {
   "codemirror_mode": {
    "name": "ipython",
    "version": 3
   },
   "file_extension": ".py",
   "mimetype": "text/x-python",
   "name": "python",
   "nbconvert_exporter": "python",
   "pygments_lexer": "ipython3",
   "version": "3.9.13"
  }
 },
 "nbformat": 4,
 "nbformat_minor": 4
}
